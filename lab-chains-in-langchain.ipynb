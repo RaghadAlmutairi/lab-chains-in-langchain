{
 "cells": [
  {
   "cell_type": "markdown",
   "id": "52824b89-532a-4e54-87e9-1410813cd39e",
   "metadata": {},
   "source": [
    "# Lab | Chains in LangChain\n",
    "\n",
    "## Outline\n",
    "\n",
    "* LLMChain\n",
    "* Sequential Chains\n",
    "  * SimpleSequentialChain\n",
    "  * SequentialChain\n",
    "* Router Chain"
   ]
  },
  {
   "cell_type": "code",
   "execution_count": 1,
   "id": "541eb2f1",
   "metadata": {},
   "outputs": [],
   "source": [
    "import warnings\n",
    "warnings.filterwarnings('ignore')"
   ]
  },
  {
   "cell_type": "code",
   "execution_count": 9,
   "id": "b7ed03ed-1322-49e3-b2a2-33e94fb592ef",
   "metadata": {
    "tags": []
   },
   "outputs": [],
   "source": [
    "import os\n",
    "\n",
    "from dotenv import load_dotenv, find_dotenv\n",
    "_ = load_dotenv(find_dotenv())\n",
    "\n",
    "OPENAI_API_KEY  = os.getenv('OPENAI_API_KEY')\n",
    "HUGGINGFACEHUB_API_TOKEN = os.getenv('HUGGINGFACEHUB_API_TOKEN')"
   ]
  },
  {
   "cell_type": "code",
   "execution_count": 5,
   "id": "b84e441b",
   "metadata": {
    "tags": []
   },
   "outputs": [],
   "source": [
    "#!pip install pandas"
   ]
  },
  {
   "cell_type": "code",
   "execution_count": 4,
   "id": "974acf8e-8f88-42de-88f8-40a82cb58e8b",
   "metadata": {
    "tags": []
   },
   "outputs": [],
   "source": [
    "import pandas as pd\n",
    "df = pd.read_csv(r'C:\\Users\\rkhm3\\Desktop\\PythonProjectsTasks\\lab-chains-in-langchain\\data\\Data.csv')"
   ]
  },
  {
   "cell_type": "code",
   "execution_count": 5,
   "id": "b7a09c35",
   "metadata": {
    "tags": []
   },
   "outputs": [
    {
     "data": {
      "text/html": [
       "<div>\n",
       "<style scoped>\n",
       "    .dataframe tbody tr th:only-of-type {\n",
       "        vertical-align: middle;\n",
       "    }\n",
       "\n",
       "    .dataframe tbody tr th {\n",
       "        vertical-align: top;\n",
       "    }\n",
       "\n",
       "    .dataframe thead th {\n",
       "        text-align: right;\n",
       "    }\n",
       "</style>\n",
       "<table border=\"1\" class=\"dataframe\">\n",
       "  <thead>\n",
       "    <tr style=\"text-align: right;\">\n",
       "      <th></th>\n",
       "      <th>Product</th>\n",
       "      <th>Review</th>\n",
       "    </tr>\n",
       "  </thead>\n",
       "  <tbody>\n",
       "    <tr>\n",
       "      <th>0</th>\n",
       "      <td>Queen Size Sheet Set</td>\n",
       "      <td>I ordered a king size set. My only criticism w...</td>\n",
       "    </tr>\n",
       "    <tr>\n",
       "      <th>1</th>\n",
       "      <td>Waterproof Phone Pouch</td>\n",
       "      <td>I loved the waterproof sac, although the openi...</td>\n",
       "    </tr>\n",
       "    <tr>\n",
       "      <th>2</th>\n",
       "      <td>Luxury Air Mattress</td>\n",
       "      <td>This mattress had a small hole in the top of i...</td>\n",
       "    </tr>\n",
       "    <tr>\n",
       "      <th>3</th>\n",
       "      <td>Pillows Insert</td>\n",
       "      <td>This is the best throw pillow fillers on Amazo...</td>\n",
       "    </tr>\n",
       "    <tr>\n",
       "      <th>4</th>\n",
       "      <td>Milk Frother Handheld\\r\\n</td>\n",
       "      <td>I loved this product. But they only seem to l...</td>\n",
       "    </tr>\n",
       "  </tbody>\n",
       "</table>\n",
       "</div>"
      ],
      "text/plain": [
       "                     Product  \\\n",
       "0       Queen Size Sheet Set   \n",
       "1     Waterproof Phone Pouch   \n",
       "2        Luxury Air Mattress   \n",
       "3             Pillows Insert   \n",
       "4  Milk Frother Handheld\\r\\n   \n",
       "\n",
       "                                              Review  \n",
       "0  I ordered a king size set. My only criticism w...  \n",
       "1  I loved the waterproof sac, although the openi...  \n",
       "2  This mattress had a small hole in the top of i...  \n",
       "3  This is the best throw pillow fillers on Amazo...  \n",
       "4   I loved this product. But they only seem to l...  "
      ]
     },
     "execution_count": 5,
     "metadata": {},
     "output_type": "execute_result"
    }
   ],
   "source": [
    "df.head()"
   ]
  },
  {
   "cell_type": "markdown",
   "id": "b940ce7c",
   "metadata": {},
   "source": [
    "## LLMChain"
   ]
  },
  {
   "cell_type": "code",
   "execution_count": 6,
   "id": "427e1119",
   "metadata": {},
   "outputs": [
    {
     "name": "stdout",
     "output_type": "stream",
     "text": [
      "Collecting langchain_community\n",
      "  Downloading langchain_community-0.3.22-py3-none-any.whl.metadata (2.4 kB)\n",
      "Collecting langchain-core<1.0.0,>=0.3.55 (from langchain_community)\n",
      "  Downloading langchain_core-0.3.56-py3-none-any.whl.metadata (5.9 kB)\n",
      "Collecting langchain<1.0.0,>=0.3.24 (from langchain_community)\n",
      "  Downloading langchain-0.3.24-py3-none-any.whl.metadata (7.8 kB)\n",
      "Requirement already satisfied: SQLAlchemy<3,>=1.4 in c:\\users\\rkhm3\\anaconda3\\lib\\site-packages (from langchain_community) (2.0.30)\n",
      "Requirement already satisfied: requests<3,>=2 in c:\\users\\rkhm3\\anaconda3\\lib\\site-packages (from langchain_community) (2.32.2)\n",
      "Requirement already satisfied: PyYAML>=5.3 in c:\\users\\rkhm3\\anaconda3\\lib\\site-packages (from langchain_community) (6.0.1)\n",
      "Requirement already satisfied: aiohttp<4.0.0,>=3.8.3 in c:\\users\\rkhm3\\anaconda3\\lib\\site-packages (from langchain_community) (3.9.5)\n",
      "Requirement already satisfied: tenacity!=8.4.0,<10,>=8.1.0 in c:\\users\\rkhm3\\anaconda3\\lib\\site-packages (from langchain_community) (8.2.2)\n",
      "Collecting dataclasses-json<0.7,>=0.5.7 (from langchain_community)\n",
      "  Downloading dataclasses_json-0.6.7-py3-none-any.whl.metadata (25 kB)\n",
      "Collecting pydantic-settings<3.0.0,>=2.4.0 (from langchain_community)\n",
      "  Downloading pydantic_settings-2.9.1-py3-none-any.whl.metadata (3.8 kB)\n",
      "Collecting langsmith<0.4,>=0.1.125 (from langchain_community)\n",
      "  Downloading langsmith-0.3.37-py3-none-any.whl.metadata (15 kB)\n",
      "Collecting httpx-sse<1.0.0,>=0.4.0 (from langchain_community)\n",
      "  Downloading httpx_sse-0.4.0-py3-none-any.whl.metadata (9.0 kB)\n",
      "Requirement already satisfied: numpy>=1.26.2 in c:\\users\\rkhm3\\anaconda3\\lib\\site-packages (from langchain_community) (1.26.4)\n",
      "Requirement already satisfied: aiosignal>=1.1.2 in c:\\users\\rkhm3\\anaconda3\\lib\\site-packages (from aiohttp<4.0.0,>=3.8.3->langchain_community) (1.2.0)\n",
      "Requirement already satisfied: attrs>=17.3.0 in c:\\users\\rkhm3\\anaconda3\\lib\\site-packages (from aiohttp<4.0.0,>=3.8.3->langchain_community) (23.1.0)\n",
      "Requirement already satisfied: frozenlist>=1.1.1 in c:\\users\\rkhm3\\anaconda3\\lib\\site-packages (from aiohttp<4.0.0,>=3.8.3->langchain_community) (1.4.0)\n",
      "Requirement already satisfied: multidict<7.0,>=4.5 in c:\\users\\rkhm3\\anaconda3\\lib\\site-packages (from aiohttp<4.0.0,>=3.8.3->langchain_community) (6.0.4)\n",
      "Requirement already satisfied: yarl<2.0,>=1.0 in c:\\users\\rkhm3\\anaconda3\\lib\\site-packages (from aiohttp<4.0.0,>=3.8.3->langchain_community) (1.9.3)\n",
      "Collecting marshmallow<4.0.0,>=3.18.0 (from dataclasses-json<0.7,>=0.5.7->langchain_community)\n",
      "  Downloading marshmallow-3.26.1-py3-none-any.whl.metadata (7.3 kB)\n",
      "Collecting typing-inspect<1,>=0.4.0 (from dataclasses-json<0.7,>=0.5.7->langchain_community)\n",
      "  Downloading typing_inspect-0.9.0-py3-none-any.whl.metadata (1.5 kB)\n",
      "Collecting langchain-text-splitters<1.0.0,>=0.3.8 (from langchain<1.0.0,>=0.3.24->langchain_community)\n",
      "  Downloading langchain_text_splitters-0.3.8-py3-none-any.whl.metadata (1.9 kB)\n",
      "Collecting pydantic<3.0.0,>=2.7.4 (from langchain<1.0.0,>=0.3.24->langchain_community)\n",
      "  Downloading pydantic-2.11.3-py3-none-any.whl.metadata (65 kB)\n",
      "     ---------------------------------------- 0.0/65.2 kB ? eta -:--:--\n",
      "     ----------------------- -------------- 41.0/65.2 kB 991.0 kB/s eta 0:00:01\n",
      "     ---------------------------------------- 65.2/65.2 kB 1.2 MB/s eta 0:00:00\n",
      "Requirement already satisfied: jsonpatch<2.0,>=1.33 in c:\\users\\rkhm3\\anaconda3\\lib\\site-packages (from langchain-core<1.0.0,>=0.3.55->langchain_community) (1.33)\n",
      "Requirement already satisfied: packaging<25,>=23.2 in c:\\users\\rkhm3\\anaconda3\\lib\\site-packages (from langchain-core<1.0.0,>=0.3.55->langchain_community) (23.2)\n",
      "Requirement already satisfied: typing-extensions>=4.7 in c:\\users\\rkhm3\\anaconda3\\lib\\site-packages (from langchain-core<1.0.0,>=0.3.55->langchain_community) (4.11.0)\n",
      "Requirement already satisfied: httpx<1,>=0.23.0 in c:\\users\\rkhm3\\anaconda3\\lib\\site-packages (from langsmith<0.4,>=0.1.125->langchain_community) (0.27.0)\n",
      "Collecting orjson<4.0.0,>=3.9.14 (from langsmith<0.4,>=0.1.125->langchain_community)\n",
      "  Downloading orjson-3.10.16-cp312-cp312-win_amd64.whl.metadata (42 kB)\n",
      "     ---------------------------------------- 0.0/42.9 kB ? eta -:--:--\n",
      "     ---------------------------------------- 42.9/42.9 kB 2.2 MB/s eta 0:00:00\n",
      "Requirement already satisfied: requests-toolbelt<2.0.0,>=1.0.0 in c:\\users\\rkhm3\\anaconda3\\lib\\site-packages (from langsmith<0.4,>=0.1.125->langchain_community) (1.0.0)\n",
      "Collecting zstandard<0.24.0,>=0.23.0 (from langsmith<0.4,>=0.1.125->langchain_community)\n",
      "  Downloading zstandard-0.23.0-cp312-cp312-win_amd64.whl.metadata (3.0 kB)\n",
      "Requirement already satisfied: python-dotenv>=0.21.0 in c:\\users\\rkhm3\\anaconda3\\lib\\site-packages (from pydantic-settings<3.0.0,>=2.4.0->langchain_community) (0.21.0)\n",
      "Collecting typing-inspection>=0.4.0 (from pydantic-settings<3.0.0,>=2.4.0->langchain_community)\n",
      "  Downloading typing_inspection-0.4.0-py3-none-any.whl.metadata (2.6 kB)\n",
      "Requirement already satisfied: charset-normalizer<4,>=2 in c:\\users\\rkhm3\\anaconda3\\lib\\site-packages (from requests<3,>=2->langchain_community) (2.0.4)\n",
      "Requirement already satisfied: idna<4,>=2.5 in c:\\users\\rkhm3\\anaconda3\\lib\\site-packages (from requests<3,>=2->langchain_community) (3.7)\n",
      "Requirement already satisfied: urllib3<3,>=1.21.1 in c:\\users\\rkhm3\\anaconda3\\lib\\site-packages (from requests<3,>=2->langchain_community) (2.2.2)\n",
      "Requirement already satisfied: certifi>=2017.4.17 in c:\\users\\rkhm3\\anaconda3\\lib\\site-packages (from requests<3,>=2->langchain_community) (2024.8.30)\n",
      "Requirement already satisfied: greenlet!=0.4.17 in c:\\users\\rkhm3\\anaconda3\\lib\\site-packages (from SQLAlchemy<3,>=1.4->langchain_community) (3.0.1)\n",
      "Requirement already satisfied: anyio in c:\\users\\rkhm3\\anaconda3\\lib\\site-packages (from httpx<1,>=0.23.0->langsmith<0.4,>=0.1.125->langchain_community) (4.2.0)\n",
      "Requirement already satisfied: httpcore==1.* in c:\\users\\rkhm3\\anaconda3\\lib\\site-packages (from httpx<1,>=0.23.0->langsmith<0.4,>=0.1.125->langchain_community) (1.0.2)\n",
      "Requirement already satisfied: sniffio in c:\\users\\rkhm3\\anaconda3\\lib\\site-packages (from httpx<1,>=0.23.0->langsmith<0.4,>=0.1.125->langchain_community) (1.3.0)\n",
      "Requirement already satisfied: h11<0.15,>=0.13 in c:\\users\\rkhm3\\anaconda3\\lib\\site-packages (from httpcore==1.*->httpx<1,>=0.23.0->langsmith<0.4,>=0.1.125->langchain_community) (0.14.0)\n",
      "Requirement already satisfied: jsonpointer>=1.9 in c:\\users\\rkhm3\\anaconda3\\lib\\site-packages (from jsonpatch<2.0,>=1.33->langchain-core<1.0.0,>=0.3.55->langchain_community) (2.1)\n",
      "Requirement already satisfied: annotated-types>=0.6.0 in c:\\users\\rkhm3\\anaconda3\\lib\\site-packages (from pydantic<3.0.0,>=2.7.4->langchain<1.0.0,>=0.3.24->langchain_community) (0.6.0)\n",
      "Collecting pydantic-core==2.33.1 (from pydantic<3.0.0,>=2.7.4->langchain<1.0.0,>=0.3.24->langchain_community)\n",
      "  Downloading pydantic_core-2.33.1-cp312-cp312-win_amd64.whl.metadata (6.9 kB)\n",
      "Collecting typing-extensions>=4.7 (from langchain-core<1.0.0,>=0.3.55->langchain_community)\n",
      "  Downloading typing_extensions-4.13.2-py3-none-any.whl.metadata (3.0 kB)\n",
      "Requirement already satisfied: mypy-extensions>=0.3.0 in c:\\users\\rkhm3\\anaconda3\\lib\\site-packages (from typing-inspect<1,>=0.4.0->dataclasses-json<0.7,>=0.5.7->langchain_community) (1.0.0)\n",
      "Downloading langchain_community-0.3.22-py3-none-any.whl (2.5 MB)\n",
      "   ---------------------------------------- 0.0/2.5 MB ? eta -:--:--\n",
      "   - -------------------------------------- 0.1/2.5 MB ? eta -:--:--\n",
      "   ---- ----------------------------------- 0.3/2.5 MB 3.4 MB/s eta 0:00:01\n",
      "   ---------- ----------------------------- 0.7/2.5 MB 5.2 MB/s eta 0:00:01\n",
      "   ----------------- ---------------------- 1.1/2.5 MB 6.4 MB/s eta 0:00:01\n",
      "   ----------------------- ---------------- 1.5/2.5 MB 6.7 MB/s eta 0:00:01\n",
      "   ----------------------- ---------------- 1.5/2.5 MB 6.7 MB/s eta 0:00:01\n",
      "   ------------------------- -------------- 1.6/2.5 MB 5.0 MB/s eta 0:00:01\n",
      "   ---------------------------------------  2.5/2.5 MB 7.3 MB/s eta 0:00:01\n",
      "   ---------------------------------------- 2.5/2.5 MB 7.0 MB/s eta 0:00:00\n",
      "Downloading dataclasses_json-0.6.7-py3-none-any.whl (28 kB)\n",
      "Downloading httpx_sse-0.4.0-py3-none-any.whl (7.8 kB)\n",
      "Downloading langchain-0.3.24-py3-none-any.whl (1.0 MB)\n",
      "   ---------------------------------------- 0.0/1.0 MB ? eta -:--:--\n",
      "   -------- ------------------------------- 0.2/1.0 MB 6.7 MB/s eta 0:00:01\n",
      "   ------------------------------------ --- 0.9/1.0 MB 11.7 MB/s eta 0:00:01\n",
      "   ---------------------------------------- 1.0/1.0 MB 8.0 MB/s eta 0:00:00\n",
      "Downloading langchain_core-0.3.56-py3-none-any.whl (437 kB)\n",
      "   ---------------------------------------- 0.0/437.2 kB ? eta -:--:--\n",
      "   ----------------------------- ---------- 317.4/437.2 kB ? eta -:--:--\n",
      "   ------------------------------- ------- 348.2/437.2 kB 22.5 MB/s eta 0:00:01\n",
      "   ---------------------------------------- 437.2/437.2 kB 5.5 MB/s eta 0:00:00\n",
      "Downloading langsmith-0.3.37-py3-none-any.whl (359 kB)\n",
      "   ---------------------------------------- 0.0/359.3 kB ? eta -:--:--\n",
      "   --------------------- ------------------ 194.6/359.3 kB 3.9 MB/s eta 0:00:01\n",
      "   ---------------------------------------- 359.3/359.3 kB 3.7 MB/s eta 0:00:00\n",
      "Downloading pydantic_settings-2.9.1-py3-none-any.whl (44 kB)\n",
      "   ---------------------------------------- 0.0/44.4 kB ? eta -:--:--\n",
      "   ---------------------------------------- 44.4/44.4 kB 2.3 MB/s eta 0:00:00\n",
      "Downloading langchain_text_splitters-0.3.8-py3-none-any.whl (32 kB)\n",
      "Downloading marshmallow-3.26.1-py3-none-any.whl (50 kB)\n",
      "   ---------------------------------------- 0.0/50.9 kB ? eta -:--:--\n",
      "   ---------------------------------------- 50.9/50.9 kB 2.7 MB/s eta 0:00:00\n",
      "Downloading orjson-3.10.16-cp312-cp312-win_amd64.whl (133 kB)\n",
      "   ---------------------------------------- 0.0/133.9 kB ? eta -:--:--\n",
      "   --------------------------------- ------ 112.6/133.9 kB 3.2 MB/s eta 0:00:01\n",
      "   ---------------------------------------- 133.9/133.9 kB 2.6 MB/s eta 0:00:00\n",
      "Downloading pydantic-2.11.3-py3-none-any.whl (443 kB)\n",
      "   ---------------------------------------- 0.0/443.6 kB ? eta -:--:--\n",
      "   ---------- ----------------------------- 112.6/443.6 kB 3.3 MB/s eta 0:00:01\n",
      "   ----------------------- ---------------- 256.0/443.6 kB 3.2 MB/s eta 0:00:01\n",
      "   ---------------------------- ----------- 317.4/443.6 kB 2.8 MB/s eta 0:00:01\n",
      "   ---------------------------------------- 443.6/443.6 kB 2.8 MB/s eta 0:00:00\n",
      "Downloading pydantic_core-2.33.1-cp312-cp312-win_amd64.whl (2.0 MB)\n",
      "   ---------------------------------------- 0.0/2.0 MB ? eta -:--:--\n",
      "   - -------------------------------------- 0.1/2.0 MB 3.2 MB/s eta 0:00:01\n",
      "   --- ------------------------------------ 0.2/2.0 MB 1.8 MB/s eta 0:00:01\n",
      "   ---- ----------------------------------- 0.2/2.0 MB 2.1 MB/s eta 0:00:01\n",
      "   ------ --------------------------------- 0.3/2.0 MB 1.8 MB/s eta 0:00:01\n",
      "   ------- -------------------------------- 0.4/2.0 MB 1.7 MB/s eta 0:00:01\n",
      "   --------- ------------------------------ 0.4/2.0 MB 1.7 MB/s eta 0:00:01\n",
      "   --------- ------------------------------ 0.5/2.0 MB 1.6 MB/s eta 0:00:01\n",
      "   ---------- ----------------------------- 0.5/2.0 MB 1.5 MB/s eta 0:00:01\n",
      "   ------------ --------------------------- 0.6/2.0 MB 1.5 MB/s eta 0:00:01\n",
      "   ------------- -------------------------- 0.6/2.0 MB 1.4 MB/s eta 0:00:01\n",
      "   -------------- ------------------------- 0.7/2.0 MB 1.4 MB/s eta 0:00:01\n",
      "   --------------- ------------------------ 0.7/2.0 MB 1.4 MB/s eta 0:00:01\n",
      "   ---------------- ----------------------- 0.8/2.0 MB 1.4 MB/s eta 0:00:01\n",
      "   ---------------- ----------------------- 0.8/2.0 MB 1.3 MB/s eta 0:00:01\n",
      "   ------------------ --------------------- 0.9/2.0 MB 1.3 MB/s eta 0:00:01\n",
      "   ------------------ --------------------- 0.9/2.0 MB 1.3 MB/s eta 0:00:01\n",
      "   ------------------- -------------------- 0.9/2.0 MB 1.2 MB/s eta 0:00:01\n",
      "   ------------------- -------------------- 1.0/2.0 MB 1.2 MB/s eta 0:00:01\n",
      "   -------------------- ------------------- 1.0/2.0 MB 1.2 MB/s eta 0:00:01\n",
      "   --------------------- ------------------ 1.0/2.0 MB 1.1 MB/s eta 0:00:01\n",
      "   --------------------- ------------------ 1.1/2.0 MB 1.1 MB/s eta 0:00:01\n",
      "   ---------------------- ----------------- 1.1/2.0 MB 1.1 MB/s eta 0:00:01\n",
      "   ----------------------- ---------------- 1.1/2.0 MB 1.1 MB/s eta 0:00:01\n",
      "   ----------------------- ---------------- 1.1/2.0 MB 1.0 MB/s eta 0:00:01\n",
      "   ------------------------ --------------- 1.2/2.0 MB 1.0 MB/s eta 0:00:01\n",
      "   ------------------------ --------------- 1.2/2.0 MB 1.0 MB/s eta 0:00:01\n",
      "   ------------------------ --------------- 1.2/2.0 MB 978.4 kB/s eta 0:00:01\n",
      "   ------------------------- -------------- 1.2/2.0 MB 959.2 kB/s eta 0:00:01\n",
      "   ------------------------- -------------- 1.2/2.0 MB 959.2 kB/s eta 0:00:01\n",
      "   ------------------------- -------------- 1.2/2.0 MB 959.2 kB/s eta 0:00:01\n",
      "   ------------------------- -------------- 1.3/2.0 MB 878.5 kB/s eta 0:00:01\n",
      "   ------------------------- -------------- 1.3/2.0 MB 857.4 kB/s eta 0:00:01\n",
      "   -------------------------- ------------- 1.3/2.0 MB 853.3 kB/s eta 0:00:01\n",
      "   -------------------------- ------------- 1.3/2.0 MB 834.0 kB/s eta 0:00:01\n",
      "   --------------------------- ------------ 1.3/2.0 MB 822.3 kB/s eta 0:00:01\n",
      "   --------------------------- ------------ 1.3/2.0 MB 819.2 kB/s eta 0:00:01\n",
      "   --------------------------- ------------ 1.3/2.0 MB 819.2 kB/s eta 0:00:01\n",
      "   --------------------------- ------------ 1.3/2.0 MB 819.2 kB/s eta 0:00:01\n",
      "   --------------------------- ------------ 1.4/2.0 MB 759.6 kB/s eta 0:00:01\n",
      "   ---------------------------- ----------- 1.4/2.0 MB 751.2 kB/s eta 0:00:01\n",
      "   ---------------------------- ----------- 1.4/2.0 MB 731.8 kB/s eta 0:00:01\n",
      "   ---------------------------- ----------- 1.4/2.0 MB 731.8 kB/s eta 0:00:01\n",
      "   ---------------------------- ----------- 1.4/2.0 MB 707.3 kB/s eta 0:00:01\n",
      "   ----------------------------- ---------- 1.4/2.0 MB 706.6 kB/s eta 0:00:01\n",
      "   ----------------------------- ---------- 1.4/2.0 MB 695.3 kB/s eta 0:00:01\n",
      "   ----------------------------- ---------- 1.5/2.0 MB 684.3 kB/s eta 0:00:01\n",
      "   ----------------------------- ---------- 1.5/2.0 MB 669.5 kB/s eta 0:00:01\n",
      "   ------------------------------ --------- 1.5/2.0 MB 669.3 kB/s eta 0:00:01\n",
      "   ------------------------------ --------- 1.5/2.0 MB 659.8 kB/s eta 0:00:01\n",
      "   ------------------------------ --------- 1.5/2.0 MB 650.8 kB/s eta 0:00:01\n",
      "   ------------------------------- -------- 1.5/2.0 MB 650.9 kB/s eta 0:00:01\n",
      "   ------------------------------- -------- 1.6/2.0 MB 646.7 kB/s eta 0:00:01\n",
      "   -------------------------------- ------- 1.6/2.0 MB 638.7 kB/s eta 0:00:01\n",
      "   -------------------------------- ------- 1.6/2.0 MB 638.7 kB/s eta 0:00:01\n",
      "   -------------------------------- ------- 1.6/2.0 MB 631.1 kB/s eta 0:00:01\n",
      "   --------------------------------- ------ 1.6/2.0 MB 631.3 kB/s eta 0:00:01\n",
      "   --------------------------------- ------ 1.6/2.0 MB 623.8 kB/s eta 0:00:01\n",
      "   ---------------------------------- ----- 1.7/2.0 MB 617.1 kB/s eta 0:00:01\n",
      "   ---------------------------------- ----- 1.7/2.0 MB 621.4 kB/s eta 0:00:01\n",
      "   ---------------------------------- ----- 1.7/2.0 MB 618.1 kB/s eta 0:00:01\n",
      "   ----------------------------------- ---- 1.8/2.0 MB 615.6 kB/s eta 0:00:01\n",
      "   ------------------------------------ --- 1.8/2.0 MB 616.2 kB/s eta 0:00:01\n",
      "   ------------------------------------ --- 1.8/2.0 MB 616.2 kB/s eta 0:00:01\n",
      "   ------------------------------------ --- 1.8/2.0 MB 616.2 kB/s eta 0:00:01\n",
      "   ------------------------------------ --- 1.8/2.0 MB 593.9 kB/s eta 0:00:01\n",
      "   ------------------------------------- -- 1.8/2.0 MB 595.1 kB/s eta 0:00:01\n",
      "   ------------------------------------- -- 1.8/2.0 MB 592.4 kB/s eta 0:00:01\n",
      "   ------------------------------------- -- 1.8/2.0 MB 592.4 kB/s eta 0:00:01\n",
      "   ------------------------------------- -- 1.8/2.0 MB 592.4 kB/s eta 0:00:01\n",
      "   -------------------------------------- - 1.9/2.0 MB 576.1 kB/s eta 0:00:01\n",
      "   -------------------------------------- - 1.9/2.0 MB 574.3 kB/s eta 0:00:01\n",
      "   ---------------------------------------  1.9/2.0 MB 572.3 kB/s eta 0:00:01\n",
      "   ---------------------------------------  1.9/2.0 MB 572.3 kB/s eta 0:00:01\n",
      "   ---------------------------------------  1.9/2.0 MB 572.3 kB/s eta 0:00:01\n",
      "   ---------------------------------------  2.0/2.0 MB 560.9 kB/s eta 0:00:01\n",
      "   ---------------------------------------- 2.0/2.0 MB 558.6 kB/s eta 0:00:00\n",
      "Downloading typing_extensions-4.13.2-py3-none-any.whl (45 kB)\n",
      "   ---------------------------------------- 0.0/45.8 kB ? eta -:--:--\n",
      "   -------------------------- ------------- 30.7/45.8 kB 1.3 MB/s eta 0:00:01\n",
      "   ---------------------------------------- 45.8/45.8 kB 756.7 kB/s eta 0:00:00\n",
      "Downloading typing_inspect-0.9.0-py3-none-any.whl (8.8 kB)\n",
      "Downloading typing_inspection-0.4.0-py3-none-any.whl (14 kB)\n",
      "Downloading zstandard-0.23.0-cp312-cp312-win_amd64.whl (495 kB)\n",
      "   ---------------------------------------- 0.0/495.6 kB ? eta -:--:--\n",
      "   -- ------------------------------------- 30.7/495.6 kB 1.4 MB/s eta 0:00:01\n",
      "   --- ----------------------------------- 41.0/495.6 kB 991.0 kB/s eta 0:00:01\n",
      "   --- ----------------------------------- 41.0/495.6 kB 991.0 kB/s eta 0:00:01\n",
      "   --- ----------------------------------- 41.0/495.6 kB 991.0 kB/s eta 0:00:01\n",
      "   ----- --------------------------------- 71.7/495.6 kB 357.2 kB/s eta 0:00:02\n",
      "   -------- ----------------------------- 112.6/495.6 kB 409.6 kB/s eta 0:00:01\n",
      "   -------- ----------------------------- 112.6/495.6 kB 409.6 kB/s eta 0:00:01\n",
      "   ----------- -------------------------- 153.6/495.6 kB 459.5 kB/s eta 0:00:01\n",
      "   -------------- ----------------------- 184.3/495.6 kB 446.4 kB/s eta 0:00:01\n",
      "   ----------------- -------------------- 225.3/495.6 kB 492.1 kB/s eta 0:00:01\n",
      "   ------------------- ------------------ 256.0/495.6 kB 507.8 kB/s eta 0:00:01\n",
      "   --------------------- ---------------- 276.5/495.6 kB 517.0 kB/s eta 0:00:01\n",
      "   ----------------------- -------------- 307.2/495.6 kB 513.8 kB/s eta 0:00:01\n",
      "   ------------------------ ------------- 317.4/495.6 kB 504.4 kB/s eta 0:00:01\n",
      "   --------------------------- ---------- 358.4/495.6 kB 518.1 kB/s eta 0:00:01\n",
      "   ---------------------------- --------- 368.6/495.6 kB 509.8 kB/s eta 0:00:01\n",
      "   ----------------------------- -------- 389.1/495.6 kB 516.2 kB/s eta 0:00:01\n",
      "   -------------------------------- ----- 419.8/495.6 kB 504.4 kB/s eta 0:00:01\n",
      "   --------------------------------- ---- 440.3/495.6 kB 509.6 kB/s eta 0:00:01\n",
      "   ------------------------------------ - 471.0/495.6 kB 517.8 kB/s eta 0:00:01\n",
      "   -------------------------------------- 495.6/495.6 kB 518.0 kB/s eta 0:00:00\n",
      "Installing collected packages: zstandard, typing-extensions, orjson, marshmallow, httpx-sse, typing-inspection, typing-inspect, pydantic-core, pydantic, dataclasses-json, pydantic-settings, langsmith, langchain-core, langchain-text-splitters, langchain, langchain_community\n",
      "  Attempting uninstall: zstandard\n",
      "    Found existing installation: zstandard 0.22.0\n",
      "    Uninstalling zstandard-0.22.0:\n",
      "      Successfully uninstalled zstandard-0.22.0\n",
      "  Attempting uninstall: typing-extensions\n",
      "    Found existing installation: typing_extensions 4.11.0\n",
      "    Uninstalling typing_extensions-4.11.0:\n",
      "      Successfully uninstalled typing_extensions-4.11.0\n",
      "  Attempting uninstall: pydantic-core\n",
      "    Found existing installation: pydantic_core 2.14.6\n",
      "    Uninstalling pydantic_core-2.14.6:\n",
      "      Successfully uninstalled pydantic_core-2.14.6\n",
      "  Attempting uninstall: pydantic\n",
      "    Found existing installation: pydantic 2.5.3\n",
      "    Uninstalling pydantic-2.5.3:\n",
      "      Successfully uninstalled pydantic-2.5.3\n",
      "Successfully installed dataclasses-json-0.6.7 httpx-sse-0.4.0 langchain-0.3.24 langchain-core-0.3.56 langchain-text-splitters-0.3.8 langchain_community-0.3.22 langsmith-0.3.37 marshmallow-3.26.1 orjson-3.10.16 pydantic-2.11.3 pydantic-core-2.33.1 pydantic-settings-2.9.1 typing-extensions-4.13.2 typing-inspect-0.9.0 typing-inspection-0.4.0 zstandard-0.23.0\n"
     ]
    }
   ],
   "source": [
    "!pip install langchain_community"
   ]
  },
  {
   "cell_type": "code",
   "execution_count": 12,
   "id": "e92dff22",
   "metadata": {
    "tags": []
   },
   "outputs": [],
   "source": [
    "from langchain.chat_models import ChatOpenAI\n",
    "from langchain.prompts import ChatPromptTemplate\n",
    "from langchain.chains import LLMChain"
   ]
  },
  {
   "cell_type": "code",
   "execution_count": 14,
   "id": "943237a7",
   "metadata": {},
   "outputs": [],
   "source": [
    "#Replace None by your own value and justify\n",
    "llm = ChatOpenAI(temperature=0.7)\n",
    "#A `temperature` of `0.7` strikes a balance between creativity and predictability, \n",
    "# offering diverse but coherent responses suitable for tasks like generating product descriptions."
   ]
  },
  {
   "cell_type": "code",
   "execution_count": 15,
   "id": "cdcdb42d",
   "metadata": {},
   "outputs": [],
   "source": [
    "prompt = ChatPromptTemplate.from_template( #Write a query that would take a variable to describe any product\n",
    " \"Describe the features and benefits of a {product}.\"\n",
    ")"
   ]
  },
  {
   "cell_type": "code",
   "execution_count": 16,
   "id": "d7abc20b",
   "metadata": {},
   "outputs": [
    {
     "name": "stderr",
     "output_type": "stream",
     "text": [
      "C:\\Users\\rkhm3\\AppData\\Local\\Temp\\ipykernel_25436\\546483037.py:1: LangChainDeprecationWarning: The class `LLMChain` was deprecated in LangChain 0.1.17 and will be removed in 1.0. Use :meth:`~RunnableSequence, e.g., `prompt | llm`` instead.\n",
      "  chain = LLMChain(llm=llm, prompt=prompt)\n"
     ]
    }
   ],
   "source": [
    "\n",
    "chain = LLMChain(llm=llm, prompt=prompt)"
   ]
  },
  {
   "cell_type": "code",
   "execution_count": 18,
   "id": "ad44d1fb",
   "metadata": {},
   "outputs": [
    {
     "name": "stderr",
     "output_type": "stream",
     "text": [
      "C:\\Users\\rkhm3\\AppData\\Local\\Temp\\ipykernel_25436\\3931184997.py:2: LangChainDeprecationWarning: The method `Chain.run` was deprecated in langchain 0.1.0 and will be removed in 1.0. Use :meth:`~invoke` instead.\n",
      "  chain.run(product)\n"
     ]
    },
    {
     "data": {
      "text/plain": [
       "\"Smartphones are portable devices that offer a range of features and benefits. Some key features and benefits of smartphones include:\\n\\n1. Communication: Smartphones allow users to stay connected with friends, family, and colleagues through calls, texts, emails, and social media platforms.\\n\\n2. Internet access: Smartphones provide access to the internet, allowing users to browse websites, stream videos, download apps, and access online services.\\n\\n3. Camera: Most smartphones come equipped with high-quality cameras, allowing users to capture photos and videos on the go.\\n\\n4. Apps: Smartphones offer access to a wide range of apps that can be downloaded from app stores, providing users with tools for productivity, entertainment, social networking, and much more.\\n\\n5. Navigation: Smartphones come with GPS capabilities, allowing users to easily navigate to their desired destinations using mapping apps.\\n\\n6. Entertainment: Smartphones can be used for listening to music, watching videos, playing games, and reading e-books, providing users with entertainment on the go.\\n\\n7. Productivity: Smartphones offer a range of productivity tools, such as calendars, task managers, note-taking apps, and email clients, helping users stay organized and productive.\\n\\n8. Customization: Smartphones allow users to customize their device with personalized wallpapers, ringtones, widgets, and themes, creating a unique user experience.\\n\\nOverall, smartphones provide users with a convenient and versatile device that can be used for communication, entertainment, productivity, and much more, making them an essential tool in today's digital world.\""
      ]
     },
     "execution_count": 18,
     "metadata": {},
     "output_type": "execute_result"
    }
   ],
   "source": [
    "product = \"smartphone\"  #Select a product type to be describe\n",
    "chain.run(product)"
   ]
  },
  {
   "cell_type": "markdown",
   "id": "69b03469",
   "metadata": {},
   "source": [
    "## SimpleSequentialChain"
   ]
  },
  {
   "cell_type": "code",
   "execution_count": 19,
   "id": "febee243",
   "metadata": {},
   "outputs": [],
   "source": [
    "from langchain.chains import SimpleSequentialChain"
   ]
  },
  {
   "cell_type": "code",
   "execution_count": 20,
   "id": "2f31aa8a",
   "metadata": {},
   "outputs": [],
   "source": [
    "llm = ChatOpenAI(temperature=0.9)\n",
    "\n",
    "# prompt template 1\n",
    "first_prompt = ChatPromptTemplate.from_template(\n",
    "    #Repeat the initial query or create a new query that would feed into the second prompt\n",
    "    \"Describe a {product} highlighting its key features and benefits.\"\n",
    ")\n",
    "\n",
    "# Chain 1\n",
    "chain_one = LLMChain(llm=llm, prompt=first_prompt)"
   ]
  },
  {
   "cell_type": "code",
   "execution_count": 21,
   "id": "3f5d5b76",
   "metadata": {},
   "outputs": [],
   "source": [
    "\n",
    "# prompt template 2\n",
    "second_prompt = ChatPromptTemplate.from_template(\n",
    "    #Write the second prompt query that takes an input variable whose input will come from the previous prompt\"\n",
    "    \"Based on the previous description, provide more detailed information about the {product}'s usability and value.\"\n",
    ")\n",
    "# chain 2\n",
    "chain_two = LLMChain(llm=llm, prompt=second_prompt)"
   ]
  },
  {
   "cell_type": "code",
   "execution_count": 22,
   "id": "6c1eb2c4",
   "metadata": {},
   "outputs": [],
   "source": [
    "overall_simple_chain = SimpleSequentialChain(chains=[chain_one, chain_two],\n",
    "                                             verbose=True\n",
    "                                            )"
   ]
  },
  {
   "cell_type": "code",
   "execution_count": 23,
   "id": "78458efe",
   "metadata": {},
   "outputs": [
    {
     "name": "stdout",
     "output_type": "stream",
     "text": [
      "\n",
      "\n",
      "\u001b[1m> Entering new SimpleSequentialChain chain...\u001b[0m\n",
      "\u001b[36;1m\u001b[1;3mThe smartphone is a powerful device that offers a plethora of features and benefits to its users. \n",
      "\n",
      "Key Features:\n",
      "1. High-resolution display: The smartphone boasts a stunning high-resolution display that provides crisp and vibrant visuals for an enhanced viewing experience.\n",
      "2. Powerful processor: Equipped with a powerful processor, the smartphone ensures smooth performance and seamless multitasking capabilities.\n",
      "3. Dual camera setup: The smartphone comes with a dual camera setup that allows users to capture stunning photos and videos with ease.\n",
      "4. Long-lasting battery: With a long-lasting battery, the smartphone ensures that users can stay connected and productive throughout the day without worrying about running out of power.\n",
      "5. Expandable storage: The smartphone offers expandable storage options, allowing users to store all their photos, videos, and apps without worrying about running out of space.\n",
      "\n",
      "Benefits:\n",
      "1. Enhanced productivity: The smartphone's powerful processor and multitasking capabilities make it ideal for productivity tasks such as emailing, editing documents, and browsing the web.\n",
      "2. Stunning visuals: The high-resolution display provides users with an immersive viewing experience, whether they are watching videos, playing games, or browsing social media.\n",
      "3. Professional-grade photography: The dual camera setup allows users to capture professional-grade photos and videos, making it perfect for aspiring photographers and content creators.\n",
      "4. Long-lasting usage: The smartphone's long-lasting battery ensures that users can stay connected and entertained throughout the day without constantly needing to recharge.\n",
      "5. Storage flexibility: The expandable storage options provide users with the flexibility to store all their important files, photos, and videos without worrying about running out of space.\n",
      "\n",
      "Overall, the smartphone offers a combination of powerful features and benefits that cater to a wide range of users, making it a versatile and essential device in today's digital world.\u001b[0m\n",
      "\u001b[33;1m\u001b[1;3mMoreover, the smartphone also comes with advanced security features such as fingerprint recognition and facial recognition, ensuring that your personal data remains secure at all times. Additionally, the smartphone supports fast charging technology, allowing you to quickly recharge your device and get back to using it in no time.\n",
      "\n",
      "The smartphone's sleek and modern design makes it a stylish accessory that you can proudly show off. Its slim and lightweight build makes it easy to carry around and use on the go. The user-friendly interface and intuitive navigation make it easy for users of all ages to operate and enjoy all the features the smartphone has to offer.\n",
      "\n",
      "Whether you're a busy professional looking for a device to boost your productivity, a photography enthusiast wanting to capture stunning images, or simply a tech-savvy individual looking for a versatile and reliable smartphone, this device has something for everyone. With its high-performance features, exceptional camera capabilities, long-lasting battery life, and expandable storage options, the smartphone is truly a powerful and indispensable tool that enhances your daily life and keeps you connected in today's fast-paced world.\u001b[0m\n",
      "\n",
      "\u001b[1m> Finished chain.\u001b[0m\n"
     ]
    },
    {
     "data": {
      "text/plain": [
       "\"Moreover, the smartphone also comes with advanced security features such as fingerprint recognition and facial recognition, ensuring that your personal data remains secure at all times. Additionally, the smartphone supports fast charging technology, allowing you to quickly recharge your device and get back to using it in no time.\\n\\nThe smartphone's sleek and modern design makes it a stylish accessory that you can proudly show off. Its slim and lightweight build makes it easy to carry around and use on the go. The user-friendly interface and intuitive navigation make it easy for users of all ages to operate and enjoy all the features the smartphone has to offer.\\n\\nWhether you're a busy professional looking for a device to boost your productivity, a photography enthusiast wanting to capture stunning images, or simply a tech-savvy individual looking for a versatile and reliable smartphone, this device has something for everyone. With its high-performance features, exceptional camera capabilities, long-lasting battery life, and expandable storage options, the smartphone is truly a powerful and indispensable tool that enhances your daily life and keeps you connected in today's fast-paced world.\""
      ]
     },
     "execution_count": 23,
     "metadata": {},
     "output_type": "execute_result"
    }
   ],
   "source": [
    "overall_simple_chain.run(product)"
   ]
  },
  {
   "cell_type": "markdown",
   "id": "0dd59bda-9d02-44e7-b3d6-2bec61b99d8f",
   "metadata": {},
   "source": [
    "**Repeat the above twice for different products**"
   ]
  },
  {
   "cell_type": "code",
   "execution_count": 24,
   "id": "b6e47652",
   "metadata": {},
   "outputs": [
    {
     "name": "stdout",
     "output_type": "stream",
     "text": [
      "\n",
      "\n",
      "\u001b[1m> Entering new SimpleSequentialChain chain...\u001b[0m\n",
      "\u001b[36;1m\u001b[1;3mThe smartphone in question is a sleek and powerful device that offers a multitude of key features and benefits to enhance the user experience. \n",
      "\n",
      "First and foremost, the smartphone boasts a stunning high-resolution display that delivers crisp and vibrant visuals, making it perfect for streaming movies, playing games, or viewing photos. The large screen size also makes it ideal for multitasking, allowing users to easily switch between apps and navigate through menus with ease. \n",
      "\n",
      "In terms of performance, this smartphone is equipped with a lightning-fast processor and ample RAM, ensuring smooth and lag-free operation even when running multiple applications simultaneously. This means users can enjoy speedy performance whether they are browsing the web, checking emails, or playing graphics-intensive games. \n",
      "\n",
      "In addition to its impressive display and performance, the smartphone also offers a range of connectivity options, including 5G capability for lightning-fast internet speeds, as well as NFC technology for seamless contactless payments. It also features a high-quality camera system that allows users to capture stunning photos and videos, complete with advanced features such as portrait mode, night mode, and AI-enhanced image processing. \n",
      "\n",
      "Overall, this smartphone is a powerhouse device that combines top-of-the-line features with a sleek and stylish design. With its high-resolution display, fast performance, and advanced camera system, it offers users a premium experience that is sure to impress.\u001b[0m\n",
      "\u001b[33;1m\u001b[1;3m It also includes a long-lasting battery that can keep up with the demands of daily use, ensuring that users can stay connected and productive throughout the day without needing to constantly recharge. Additionally, the smartphone incorporates advanced security features such as facial recognition or fingerprint scanning to keep user data safe and secure.\n",
      "\n",
      "The sleek and stylish design of the smartphone not only looks great but also feels comfortable in the hand, making it easy to use for extended periods of time. Its slim profile and lightweight construction make it convenient to carry around, whether in a pocket or bag.\n",
      "\n",
      "Furthermore, the smartphone runs on the latest version of its operating system, providing access to a wide range of apps and services that cater to every need and interest. With regular software updates and support, users can expect their device to stay up-to-date and perform optimally for years to come.\n",
      "\n",
      "Overall, this smartphone is an excellent choice for users who are looking for a premium device that offers top-of-the-line features, performance, and design. Whether for work, entertainment, or communication, this smartphone delivers an exceptional experience that is sure to enhance the daily lives of its users.\u001b[0m\n",
      "\n",
      "\u001b[1m> Finished chain.\u001b[0m\n",
      "Result for smartphone:\n",
      " It also includes a long-lasting battery that can keep up with the demands of daily use, ensuring that users can stay connected and productive throughout the day without needing to constantly recharge. Additionally, the smartphone incorporates advanced security features such as facial recognition or fingerprint scanning to keep user data safe and secure.\n",
      "\n",
      "The sleek and stylish design of the smartphone not only looks great but also feels comfortable in the hand, making it easy to use for extended periods of time. Its slim profile and lightweight construction make it convenient to carry around, whether in a pocket or bag.\n",
      "\n",
      "Furthermore, the smartphone runs on the latest version of its operating system, providing access to a wide range of apps and services that cater to every need and interest. With regular software updates and support, users can expect their device to stay up-to-date and perform optimally for years to come.\n",
      "\n",
      "Overall, this smartphone is an excellent choice for users who are looking for a premium device that offers top-of-the-line features, performance, and design. Whether for work, entertainment, or communication, this smartphone delivers an exceptional experience that is sure to enhance the daily lives of its users.\n",
      "\n",
      "--------------------------------------------------\n",
      "\n",
      "\n",
      "\n",
      "\u001b[1m> Entering new SimpleSequentialChain chain...\u001b[0m\n",
      "\u001b[36;1m\u001b[1;3mThe laptop features a sleek and lightweight design, making it extremely portable and easy to carry around for on-the-go use. It boasts a powerful processor and ample storage space, allowing for smooth and seamless multitasking and storage of large files. The laptop's vibrant display and high-quality graphics provide an immersive viewing experience for both work and entertainment purposes.\n",
      "\n",
      "In terms of connectivity, the laptop is equipped with a variety of ports including USB, HDMI, and headphone jacks, making it versatile for connecting to external devices. It also has built-in Wi-Fi and Bluetooth capabilities for easy connectivity to the internet and other devices.\n",
      "\n",
      "The laptop's long-lasting battery life ensures that you can work or play for extended periods without needing to constantly recharge. Additionally, it comes with advanced security features such as fingerprint scanning or facial recognition for heightened data protection.\n",
      "\n",
      "Overall, this laptop offers a perfect blend of performance, portability, connectivity, and security, making it an ideal choice for professionals, students, and casual users alike.\u001b[0m\n",
      "\u001b[33;1m\u001b[1;3m The laptop's sleek and lightweight design makes it easy to take on the go, whether you're commuting to work or traveling for business. Its powerful processor and ample storage space ensure that you can run multiple applications smoothly and store all your important files without any lag.\n",
      "\n",
      "The vibrant display and high-quality graphics make watching movies, playing games, or working on graphics-intensive tasks a visual treat. The laptop's connectivity options, including USB, HDMI, and headphone jacks, make it easy to connect to external devices such as monitors, printers, or headphones.\n",
      "\n",
      "Built-in Wi-Fi and Bluetooth capabilities mean you can stay connected to the internet and other devices without any hassle. The long-lasting battery life ensures that you can use your laptop for hours on end without needing to constantly search for a power outlet.\n",
      "\n",
      "The advanced security features, such as fingerprint scanning or facial recognition, add an extra layer of protection to your data and ensure that your personal information remains secure.\n",
      "\n",
      "Overall, this laptop offers a perfect balance of performance, portability, connectivity, and security, making it a versatile and reliable choice for a wide range of users. Whether you're a professional in need of a powerful work tool, a student looking for a laptop for your studies, or a casual user who enjoys entertainment on the go, this laptop has something to offer for everyone.\u001b[0m\n",
      "\n",
      "\u001b[1m> Finished chain.\u001b[0m\n",
      "Result for laptop:\n",
      " The laptop's sleek and lightweight design makes it easy to take on the go, whether you're commuting to work or traveling for business. Its powerful processor and ample storage space ensure that you can run multiple applications smoothly and store all your important files without any lag.\n",
      "\n",
      "The vibrant display and high-quality graphics make watching movies, playing games, or working on graphics-intensive tasks a visual treat. The laptop's connectivity options, including USB, HDMI, and headphone jacks, make it easy to connect to external devices such as monitors, printers, or headphones.\n",
      "\n",
      "Built-in Wi-Fi and Bluetooth capabilities mean you can stay connected to the internet and other devices without any hassle. The long-lasting battery life ensures that you can use your laptop for hours on end without needing to constantly search for a power outlet.\n",
      "\n",
      "The advanced security features, such as fingerprint scanning or facial recognition, add an extra layer of protection to your data and ensure that your personal information remains secure.\n",
      "\n",
      "Overall, this laptop offers a perfect balance of performance, portability, connectivity, and security, making it a versatile and reliable choice for a wide range of users. Whether you're a professional in need of a powerful work tool, a student looking for a laptop for your studies, or a casual user who enjoys entertainment on the go, this laptop has something to offer for everyone.\n",
      "\n",
      "--------------------------------------------------\n",
      "\n"
     ]
    }
   ],
   "source": [
    "from langchain.chat_models import ChatOpenAI\n",
    "from langchain.prompts import ChatPromptTemplate\n",
    "from langchain.chains import LLMChain, SimpleSequentialChain\n",
    "\n",
    "# Set up the OpenAI model\n",
    "llm = ChatOpenAI(temperature=0.9)\n",
    "\n",
    "# Prompt template 1\n",
    "first_prompt = ChatPromptTemplate.from_template(\n",
    "    \"Describe a {product} highlighting its key features and benefits.\"\n",
    ")\n",
    "\n",
    "# Chain 1\n",
    "chain_one = LLMChain(llm=llm, prompt=first_prompt)\n",
    "\n",
    "# Prompt template 2\n",
    "second_prompt = ChatPromptTemplate.from_template(\n",
    "    \"Based on the previous description, provide more detailed information about the {product}'s usability and value.\"\n",
    ")\n",
    "\n",
    "# Chain 2\n",
    "chain_two = LLMChain(llm=llm, prompt=second_prompt)\n",
    "\n",
    "# Combine both chains into a sequential chain\n",
    "overall_simple_chain = SimpleSequentialChain(chains=[chain_one, chain_two], verbose=True)\n",
    "\n",
    "# List of products to describe\n",
    "products = [\"smartphone\", \"laptop\"]\n",
    "\n",
    "# Iterate over each product and run the chain\n",
    "for product in products:\n",
    "    result = overall_simple_chain.run(product)\n",
    "    print(f\"Result for {product}:\")\n",
    "    print(result)\n",
    "    print(\"\\n\" + \"-\"*50 + \"\\n\")\n"
   ]
  },
  {
   "cell_type": "markdown",
   "id": "7b5ce18c",
   "metadata": {},
   "source": [
    "## SequentialChain"
   ]
  },
  {
   "cell_type": "code",
   "execution_count": 57,
   "id": "4c129ef6",
   "metadata": {},
   "outputs": [],
   "source": [
    "from langchain.chains import SequentialChain"
   ]
  },
  {
   "cell_type": "code",
   "execution_count": 58,
   "id": "016187ac",
   "metadata": {},
   "outputs": [],
   "source": [
    "llm = ChatOpenAI(temperature=0.5)\n",
    "\n",
    "\n",
    "first_prompt = ChatPromptTemplate.from_template(\n",
    "  \"Translate it from English to arabic: {Review}\"\n",
    "  \n",
    ")\n",
    "\n",
    "chain_one = LLMChain(llm=llm, prompt=first_prompt, \n",
    "                     output_key= \"result\" #Give a name to your output\n",
    "                    )"
   ]
  },
  {
   "cell_type": "code",
   "execution_count": 59,
   "id": "0fb0730e",
   "metadata": {},
   "outputs": [],
   "source": [
    "second_prompt = ChatPromptTemplate.from_template(\n",
    "    \"Summerize {result}\"\n",
    ")\n",
    "\n",
    "chain_two = LLMChain(llm=llm, prompt=second_prompt, \n",
    "                     output_key= \"Summery\" #give a name to this output\n",
    "                    )"
   ]
  },
  {
   "cell_type": "code",
   "execution_count": 60,
   "id": "6accf92d",
   "metadata": {},
   "outputs": [],
   "source": [
    "# prompt template 3: translate to english or other language\n",
    "third_prompt = ChatPromptTemplate.from_template(\n",
    "    \"Translate it to spanish{Summery}\"\n",
    ")\n",
    "# chain 3: input= Review and output= language\n",
    "chain_three = LLMChain(llm=llm, prompt=third_prompt,\n",
    "                       output_key= \"spanish\"\n",
    "                      )"
   ]
  },
  {
   "cell_type": "code",
   "execution_count": 61,
   "id": "c7a46121",
   "metadata": {},
   "outputs": [],
   "source": [
    "# prompt template 4: follow up message that take as inputs the two previous prompts' variables\n",
    "fourth_prompt = ChatPromptTemplate.from_template(\n",
    "       \"{Summery} and {spanish}\"\n",
    ")\n",
    "chain_four = LLMChain(llm=llm, prompt=fourth_prompt,\n",
    "                      output_key= \"final\"\n",
    "                     )"
   ]
  },
  {
   "cell_type": "code",
   "execution_count": 62,
   "id": "89603117",
   "metadata": {},
   "outputs": [],
   "source": [
    "# overall_chain: input= Review \n",
    "# and output= English_Review,summary, followup_message\n",
    "overall_chain = SequentialChain(\n",
    "    chains=[chain_one, chain_two, chain_three, chain_four],\n",
    "    input_variables= [\"Review\"],\n",
    "    output_variables=[\"result\",\"Summery\", \"spanish\", \"final\"],\n",
    "    verbose=True\n",
    ")"
   ]
  },
  {
   "cell_type": "code",
   "execution_count": 63,
   "id": "51b04f45",
   "metadata": {},
   "outputs": [
    {
     "name": "stdout",
     "output_type": "stream",
     "text": [
      "\n",
      "\n",
      "\u001b[1m> Entering new SequentialChain chain...\u001b[0m\n",
      "\n",
      "\u001b[1m> Finished chain.\u001b[0m\n"
     ]
    },
    {
     "data": {
      "text/plain": [
       "{'Review': \"Je trouve le goût médiocre. La mousse ne tient pas, c'est bizarre. J'achète les mêmes dans le commerce et le goût est bien meilleur...\\r\\nVieux lot ou contrefaçon !?\",\n",
       " 'result': 'أجد الطعم سيئًا. الرغوة لا تدوم، هذا غريب. أشتري نفس الأشياء من السوق والطعم أفضل بكثير...\\nهل هو دفعة قديمة أم تقليد؟',\n",
       " 'Summery': 'الشخص يجد أن الطعم سيئًا وأن الرغوة لا تدوم في المنتج الذي اشتراه، ويعتقد أنه قد يكون دفعة قديمة أو تقليدًا، حيث يجد أن النسخة التي يشتريها من السوق تكون ذات طعم أفضل بكثير.',\n",
       " 'spanish': 'La persona encuentra que el sabor es malo y que la espuma no dura en el producto que compró, y cree que podría ser un lote antiguo o una imitación, ya que encuentra que la versión que compra en el mercado tiene un sabor mucho mejor.',\n",
       " 'final': 'En este caso, lo más probable es que el producto que compró sea una imitación o una versión antigua que ha perdido su calidad. Es importante verificar la autenticidad del producto antes de comprarlo, especialmente si se trata de alimentos o bebidas. También se puede contactar al fabricante para informarles sobre la calidad del producto que ha adquirido.'}"
      ]
     },
     "execution_count": 63,
     "metadata": {},
     "output_type": "execute_result"
    }
   ],
   "source": [
    "review = df.Review[5]\n",
    "overall_chain(review)"
   ]
  },
  {
   "cell_type": "markdown",
   "id": "3187cf07-458a-4226-bec7-3dec7ee47af2",
   "metadata": {},
   "source": [
    "**Repeat the above twice for different products or reviews**"
   ]
  },
  {
   "cell_type": "code",
   "execution_count": 55,
   "id": "f5bd4d96",
   "metadata": {},
   "outputs": [
    {
     "name": "stdout",
     "output_type": "stream",
     "text": [
      "\n",
      "\n",
      "\u001b[1m> Entering new SequentialChain chain...\u001b[0m\n",
      "\n",
      "\u001b[1m> Finished chain.\u001b[0m\n",
      "Result for Review 1:\n",
      "Translated Review: This phone is incredible, it has a great camera and battery.\n",
      "Summary: The reviewer is impressed with the phone, particularly praising its camera and battery performance.\n",
      "Follow-up Message: Thank you for your feedback! We're glad to hear that you're enjoying the camera quality and battery life of our phone. If you have any other comments or suggestions, feel free to share them with us. Thank you for choosing our product!\n",
      "\n",
      "--------------------------------------------------\n",
      "\n",
      "\n",
      "\n",
      "\u001b[1m> Entering new SequentialChain chain...\u001b[0m\n",
      "\n",
      "\u001b[1m> Finished chain.\u001b[0m\n",
      "Result for Review 2:\n",
      "Translated Review: La computadora portátil funciona muy bien, pero la batería se agota rápidamente.\n",
      "Summary: The laptop works great, but the battery drains quickly.\n",
      "Follow-up Message: Thank you for your feedback. We are glad to hear that the laptop is working great for you. We apologize for the issue with the battery draining quickly. Please reach out to our customer service team so we can assist you with any troubleshooting or potential solutions. Your satisfaction is important to us. Thank you for choosing our product.\n",
      "\n",
      "--------------------------------------------------\n",
      "\n"
     ]
    }
   ],
   "source": [
    "# Example reviews for different products\n",
    "reviews = [\n",
    "    \"Este teléfono es increíble, tiene una gran cámara y batería.\",  # First review (in Spanish)\n",
    "    \"The laptop works great, but the battery drains quickly.\"        # Second review (in English)\n",
    "]\n",
    "\n",
    "# Define the target language\n",
    "language = \"English\"  # Change this to any other language if needed\n",
    "\n",
    "# Loop through each review and run the chain\n",
    "for idx, review in enumerate(reviews):\n",
    "    # Run the overall chain using the __call__ method to handle multiple outputs\n",
    "    result = overall_chain({\"review\": review, \"language\": language})\n",
    "    \n",
    "    # Printing the results for each review\n",
    "    print(f\"Result for Review {idx + 1}:\")\n",
    "    print(\"Translated Review:\", result[\"translated_review_output\"])\n",
    "    print(\"Summary:\", result[\"summary\"])\n",
    "    print(\"Follow-up Message:\", result[\"follow_up_message\"])\n",
    "    print(\"\\n\" + \"-\" * 50 + \"\\n\")\n"
   ]
  },
  {
   "cell_type": "markdown",
   "id": "3041ea4c",
   "metadata": {},
   "source": [
    "## Router Chain"
   ]
  },
  {
   "cell_type": "code",
   "execution_count": 64,
   "id": "ade83f4f",
   "metadata": {},
   "outputs": [],
   "source": [
    "physics_template = \"\"\"You are a very smart physics professor. \\\n",
    "You are great at answering questions about physics in a concise\\\n",
    "and easy to understand manner. \\\n",
    "When you don't know the answer to a question you admit\\\n",
    "that you don't know.\n",
    "\n",
    "Here is a question:\n",
    "{input}\"\"\"\n",
    "\n",
    "\n",
    "math_template = \"\"\"You are a very good mathematician. \\\n",
    "You are great at answering math questions. \\\n",
    "You are so good because you are able to break down \\\n",
    "hard problems into their component parts, \n",
    "answer the component parts, and then put them together\\\n",
    "to answer the broader question.\n",
    "\n",
    "Here is a question:\n",
    "{input}\"\"\"\n",
    "\n",
    "history_template = \"\"\"You are a very good historian. \\\n",
    "You have an excellent knowledge of and understanding of people,\\\n",
    "events and contexts from a range of historical periods. \\\n",
    "You have the ability to think, reflect, debate, discuss and \\\n",
    "evaluate the past. You have a respect for historical evidence\\\n",
    "and the ability to make use of it to support your explanations \\\n",
    "and judgements.\n",
    "\n",
    "Here is a question:\n",
    "{input}\"\"\"\n",
    "\n",
    "\n",
    "computerscience_template = \"\"\" You are a successful computer scientist.\\\n",
    "You have a passion for creativity, collaboration,\\\n",
    "forward-thinking, confidence, strong problem-solving capabilities,\\\n",
    "understanding of theories and algorithms, and excellent communication \\\n",
    "skills. You are great at answering coding questions. \\\n",
    "You are so good because you know how to solve a problem by \\\n",
    "describing the solution in imperative steps \\\n",
    "that a machine can easily interpret and you know how to \\\n",
    "choose a solution that has a good balance between \\\n",
    "time complexity and space complexity. \n",
    "\n",
    "Here is a question:\n",
    "{input}\"\"\"\n",
    "\n",
    "biology_template = \"\"\"You are an excellent biologist. \\\n",
    "You have a deep understanding of living organisms, \\\n",
    "from the molecular and cellular level to entire ecosystems. \\\n",
    "You are skilled at observing patterns in nature, analyzing biological data, \\\n",
    "and explaining complex processes like evolution, genetics, physiology, and ecology. \\\n",
    "You can clearly communicate how life functions and adapts, \\\n",
    "and you make connections between different biological concepts \\\n",
    "to answer challenging questions.\n",
    "\n",
    "Here is a question:\n",
    "{input}\"\"\""
   ]
  },
  {
   "cell_type": "code",
   "execution_count": 65,
   "id": "5f590e9f",
   "metadata": {},
   "outputs": [],
   "source": [
    "prompt_infos = [\n",
    "    {\n",
    "        \"name\": \"physics\", \n",
    "        \"description\": \"Good for answering questions about physics\", \n",
    "        \"prompt_template\": physics_template\n",
    "    },\n",
    "    {\n",
    "        \"name\": \"math\", \n",
    "        \"description\": \"Good for answering math questions\", \n",
    "        \"prompt_template\": math_template\n",
    "    },\n",
    "    {\n",
    "        \"name\": \"History\", \n",
    "        \"description\": \"Good for answering history questions\", \n",
    "        \"prompt_template\": history_template\n",
    "    },\n",
    "    {\n",
    "        \"name\": \"computer science\", \n",
    "        \"description\": \"Good for answering computer science questions\", \n",
    "        \"prompt_template\": computerscience_template\n",
    "    },\n",
    "    {\n",
    "        \"name\": \"biology\",\n",
    "        \"description\": \"Good for answering biology questions\",\n",
    "        \"prompt_template\": biology_template\n",
    "    }\n",
    "]"
   ]
  },
  {
   "cell_type": "code",
   "execution_count": 66,
   "id": "31b06fc8",
   "metadata": {},
   "outputs": [],
   "source": [
    "from langchain.chains.router import MultiPromptChain\n",
    "from langchain.chains.router.llm_router import LLMRouterChain,RouterOutputParser\n",
    "from langchain.prompts import PromptTemplate"
   ]
  },
  {
   "cell_type": "code",
   "execution_count": 67,
   "id": "f3f50bcc",
   "metadata": {},
   "outputs": [],
   "source": [
    "llm = ChatOpenAI(temperature=0)"
   ]
  },
  {
   "cell_type": "code",
   "execution_count": 68,
   "id": "8eefec24",
   "metadata": {},
   "outputs": [],
   "source": [
    "destination_chains = {}\n",
    "for p_info in prompt_infos:\n",
    "    name = p_info[\"name\"]\n",
    "    prompt_template = p_info[\"prompt_template\"]\n",
    "    prompt = ChatPromptTemplate.from_template(template=prompt_template)\n",
    "    chain = LLMChain(llm=llm, prompt=prompt)\n",
    "    destination_chains[name] = chain  \n",
    "    \n",
    "destinations = [f\"{p['name']}: {p['description']}\" for p in prompt_infos]\n",
    "destinations_str = \"\\n\".join(destinations)"
   ]
  },
  {
   "cell_type": "code",
   "execution_count": 69,
   "id": "9f98018a",
   "metadata": {},
   "outputs": [],
   "source": [
    "default_prompt = ChatPromptTemplate.from_template(\"{input}\")\n",
    "default_chain = LLMChain(llm=llm, prompt=default_prompt)"
   ]
  },
  {
   "cell_type": "code",
   "execution_count": 70,
   "id": "11b2e2ba",
   "metadata": {},
   "outputs": [],
   "source": [
    "MULTI_PROMPT_ROUTER_TEMPLATE = \"\"\"Given a raw text input to a \\\n",
    "language model select the model prompt best suited for the input. \\\n",
    "You will be given the names of the available prompts and a \\\n",
    "description of what the prompt is best suited for. \\\n",
    "You may also revise the original input if you think that revising\\\n",
    "it will ultimately lead to a better response from the language model.\n",
    "\n",
    "<< FORMATTING >>\n",
    "Return a markdown code snippet with a JSON object formatted to look like:\n",
    "```json\n",
    "{{{{\n",
    "    \"destination\": string \\ name of the prompt to use or \"DEFAULT\"\n",
    "    \"next_inputs\": string \\ a potentially modified version of the original input\n",
    "}}}}\n",
    "```\n",
    "\n",
    "REMEMBER: \"destination\" MUST be one of the candidate prompt \\\n",
    "names specified below OR it can be \"DEFAULT\" if the input is not\\\n",
    "well suited for any of the candidate prompts.\n",
    "REMEMBER: \"next_inputs\" can just be the original input \\\n",
    "if you don't think any modifications are needed.\n",
    "\n",
    "<< CANDIDATE PROMPTS >>\n",
    "{destinations}\n",
    "\n",
    "<< INPUT >>\n",
    "{{input}}\n",
    "\n",
    "<< OUTPUT (remember to include the ```json)>>\"\"\""
   ]
  },
  {
   "cell_type": "code",
   "execution_count": 71,
   "id": "1387109d",
   "metadata": {},
   "outputs": [],
   "source": [
    "router_template = MULTI_PROMPT_ROUTER_TEMPLATE.format(\n",
    "    destinations=destinations_str\n",
    ")\n",
    "router_prompt = PromptTemplate(\n",
    "    template=router_template,\n",
    "    input_variables=[\"input\"],\n",
    "    output_parser=RouterOutputParser(),\n",
    ")\n",
    "\n",
    "router_chain = LLMRouterChain.from_llm(llm, router_prompt)"
   ]
  },
  {
   "cell_type": "code",
   "execution_count": 72,
   "id": "2fb7d560",
   "metadata": {},
   "outputs": [
    {
     "name": "stderr",
     "output_type": "stream",
     "text": [
      "C:\\Users\\rkhm3\\AppData\\Local\\Temp\\ipykernel_25436\\3038952769.py:1: LangChainDeprecationWarning: Please see migration guide here for recommended implementation: https://python.langchain.com/docs/versions/migrating_chains/multi_prompt_chain/\n",
      "  chain = MultiPromptChain(router_chain=router_chain,\n"
     ]
    }
   ],
   "source": [
    "chain = MultiPromptChain(router_chain=router_chain, \n",
    "                         destination_chains=destination_chains, \n",
    "                         default_chain=default_chain, verbose=True\n",
    "                        )"
   ]
  },
  {
   "cell_type": "code",
   "execution_count": 73,
   "id": "d86b2131",
   "metadata": {},
   "outputs": [
    {
     "name": "stdout",
     "output_type": "stream",
     "text": [
      "\n",
      "\n",
      "\u001b[1m> Entering new MultiPromptChain chain...\u001b[0m\n",
      "physics: {'input': 'What is black body radiation?'}\n",
      "\u001b[1m> Finished chain.\u001b[0m\n"
     ]
    },
    {
     "data": {
      "text/plain": [
       "\"Black body radiation refers to the electromagnetic radiation emitted by a perfect black body, which is an idealized physical body that absorbs all incident electromagnetic radiation and emits radiation at all frequencies. The radiation emitted by a black body depends only on its temperature and follows a specific distribution known as Planck's law. This type of radiation is important in understanding concepts such as thermal radiation and the behavior of objects at different temperatures.\""
      ]
     },
     "execution_count": 73,
     "metadata": {},
     "output_type": "execute_result"
    }
   ],
   "source": [
    "chain.run(\"What is black body radiation?\")"
   ]
  },
  {
   "cell_type": "code",
   "execution_count": 74,
   "id": "3b717379",
   "metadata": {},
   "outputs": [
    {
     "name": "stdout",
     "output_type": "stream",
     "text": [
      "\n",
      "\n",
      "\u001b[1m> Entering new MultiPromptChain chain...\u001b[0m\n",
      "math: {'input': 'what is 2 + 2'}\n",
      "\u001b[1m> Finished chain.\u001b[0m\n"
     ]
    },
    {
     "data": {
      "text/plain": [
       "'The answer to 2 + 2 is 4.'"
      ]
     },
     "execution_count": 74,
     "metadata": {},
     "output_type": "execute_result"
    }
   ],
   "source": [
    "chain.run(\"what is 2 + 2\")"
   ]
  },
  {
   "cell_type": "code",
   "execution_count": 75,
   "id": "29e5be01",
   "metadata": {},
   "outputs": [
    {
     "name": "stdout",
     "output_type": "stream",
     "text": [
      "\n",
      "\n",
      "\u001b[1m> Entering new MultiPromptChain chain...\u001b[0m\n",
      "biology: {'input': 'Why does every cell in our body contain DNA?'}\n",
      "\u001b[1m> Finished chain.\u001b[0m\n"
     ]
    },
    {
     "data": {
      "text/plain": [
       "'Every cell in our body contains DNA because DNA is the genetic material that carries the instructions for the development, functioning, and reproduction of all living organisms. DNA contains the information needed to build and maintain an organism, including the proteins that make up our cells and tissues. \\n\\nHaving DNA in every cell ensures that each cell has the necessary genetic information to carry out its specific functions and to replicate itself accurately during cell division. This genetic information is crucial for maintaining the integrity and stability of our cells and ensuring that our bodies can grow, develop, and repair themselves properly.\\n\\nAdditionally, having DNA in every cell allows for genetic diversity and variation within an organism, which is important for evolution and adaptation to changing environments. By having DNA in every cell, our bodies can respond to internal and external stimuli, regulate gene expression, and maintain homeostasis to keep us healthy and functioning properly.'"
      ]
     },
     "execution_count": 75,
     "metadata": {},
     "output_type": "execute_result"
    }
   ],
   "source": [
    "chain.run(\"Why does every cell in our body contain DNA?\")"
   ]
  },
  {
   "cell_type": "markdown",
   "id": "09e0c60b-7ae0-453e-9467-142d8dafee6e",
   "metadata": {},
   "source": [
    "**Repeat the above at least once for different inputs and chains executions - Be creative!**"
   ]
  },
  {
   "cell_type": "code",
   "execution_count": 76,
   "id": "9182e42f",
   "metadata": {},
   "outputs": [
    {
     "name": "stdout",
     "output_type": "stream",
     "text": [
      "\n",
      "\n",
      "\u001b[1m> Entering new MultiPromptChain chain...\u001b[0m\n",
      "History: {'input': 'Who was the first president of the United States?'}\n",
      "\u001b[1m> Finished chain.\u001b[0m\n"
     ]
    },
    {
     "data": {
      "text/plain": [
       "'The first president of the United States was George Washington. He served as president from 1789 to 1797.'"
      ]
     },
     "execution_count": 76,
     "metadata": {},
     "output_type": "execute_result"
    }
   ],
   "source": [
    "chain.run(\"Who was the first president of the United States?\")"
   ]
  },
  {
   "cell_type": "code",
   "execution_count": 77,
   "id": "19867512",
   "metadata": {},
   "outputs": [
    {
     "name": "stdout",
     "output_type": "stream",
     "text": [
      "\n",
      "\n",
      "\u001b[1m> Entering new MultiPromptChain chain...\u001b[0m\n",
      "computer science: {'input': 'What is the difference between RAM and ROM in computer science?'}\n",
      "\u001b[1m> Finished chain.\u001b[0m\n"
     ]
    },
    {
     "data": {
      "text/plain": [
       "'RAM (Random Access Memory) and ROM (Read-Only Memory) are both types of computer memory, but they serve different purposes and have different characteristics.\\n\\nRAM is a type of volatile memory that is used by the computer to store data and program instructions that are currently being used. It is called \"random access\" because the computer can access any memory location in RAM directly, regardless of the order in which the data was stored. RAM is temporary and is cleared when the computer is turned off.\\n\\nOn the other hand, ROM is a type of non-volatile memory that is used to store firmware and other essential system software that is needed to boot up the computer. ROM is called \"read-only\" because the data stored in ROM cannot be easily modified or deleted. ROM retains its data even when the computer is turned off.\\n\\nIn summary, the main difference between RAM and ROM is that RAM is used for temporary storage of data and program instructions that are currently being used, while ROM is used for permanent storage of essential system software that is needed to boot up the computer.'"
      ]
     },
     "execution_count": 77,
     "metadata": {},
     "output_type": "execute_result"
    }
   ],
   "source": [
    "chain.run(\"What is the difference between RAM and ROM?\")"
   ]
  },
  {
   "cell_type": "code",
   "execution_count": 78,
   "id": "b496bf97",
   "metadata": {},
   "outputs": [
    {
     "name": "stdout",
     "output_type": "stream",
     "text": [
      "\n",
      "\n",
      "\u001b[1m> Entering new MultiPromptChain chain...\u001b[0m\n",
      "physics: {'input': \"What is Newton's first law of motion?\"}\n",
      "\u001b[1m> Finished chain.\u001b[0m\n"
     ]
    },
    {
     "data": {
      "text/plain": [
       "\"Newton's first law of motion, also known as the law of inertia, states that an object at rest will stay at rest, and an object in motion will stay in motion with a constant velocity unless acted upon by an external force. In simpler terms, an object will not change its state of motion unless a force is applied to it.\""
      ]
     },
     "execution_count": 78,
     "metadata": {},
     "output_type": "execute_result"
    }
   ],
   "source": [
    "chain.run(\"What is Newton's first law of motion?\")"
   ]
  },
  {
   "cell_type": "code",
   "execution_count": null,
   "id": "c4f8144e",
   "metadata": {},
   "outputs": [],
   "source": []
  }
 ],
 "metadata": {
  "kernelspec": {
   "display_name": "base",
   "language": "python",
   "name": "python3"
  },
  "language_info": {
   "codemirror_mode": {
    "name": "ipython",
    "version": 3
   },
   "file_extension": ".py",
   "mimetype": "text/x-python",
   "name": "python",
   "nbconvert_exporter": "python",
   "pygments_lexer": "ipython3",
   "version": "3.12.4"
  }
 },
 "nbformat": 4,
 "nbformat_minor": 5
}
